{
  "nbformat": 4,
  "nbformat_minor": 0,
  "metadata": {
    "colab": {
      "name": "Model_Evaluation.ipynb",
      "provenance": [],
      "collapsed_sections": [],
      "authorship_tag": "ABX9TyP67G8AZZQExTbM0cbtTseX",
      "include_colab_link": true
    },
    "kernelspec": {
      "display_name": "Python 3",
      "name": "python3"
    },
    "language_info": {
      "name": "python"
    }
  },
  "cells": [
    {
      "cell_type": "markdown",
      "metadata": {
        "id": "view-in-github",
        "colab_type": "text"
      },
      "source": [
        "<a href=\"https://colab.research.google.com/github/milroy-cmd/AI-model-evaluation/blob/main/Model_Evaluation.ipynb\" target=\"_parent\"><img src=\"https://colab.research.google.com/assets/colab-badge.svg\" alt=\"Open In Colab\"/></a>"
      ]
    },
    {
      "cell_type": "code",
      "metadata": {
        "colab": {
          "base_uri": "https://localhost:8080/"
        },
        "id": "4tT12HJOC0CH",
        "outputId": "3725f9ec-367f-48e8-dfb9-7e98a507f803"
      },
      "source": [
        "from google.colab import drive\n",
        "drive.mount('/content/drive')"
      ],
      "execution_count": null,
      "outputs": [
        {
          "output_type": "stream",
          "text": [
            "Mounted at /content/drive\n"
          ],
          "name": "stdout"
        }
      ]
    },
    {
      "cell_type": "code",
      "metadata": {
        "id": "zu0MR-gYErY1"
      },
      "source": [
        "#Question_1\n",
        "import pandas as pd\n",
        "df = pd.read_csv('/content/drive/My Drive/Colab Notebooks/zim_cities.csv')\n",
        "\n",
        "#NAMES OF GROUP MEMBERS \n",
        "#MILROY SHUMBA R198175Y\n",
        "#PRECIOUS RUMHUNGWE R195877T\n",
        "#CYNTHIA ZHAWU R195828H"
      ],
      "execution_count": 43,
      "outputs": []
    },
    {
      "cell_type": "code",
      "metadata": {
        "colab": {
          "base_uri": "https://localhost:8080/",
          "height": 419
        },
        "id": "S11KRl00E5T3",
        "outputId": "3028467e-35bf-4dfa-92b8-6980c875735f"
      },
      "source": [
        "df"
      ],
      "execution_count": null,
      "outputs": [
        {
          "output_type": "execute_result",
          "data": {
            "text/html": [
              "<div>\n",
              "<style scoped>\n",
              "    .dataframe tbody tr th:only-of-type {\n",
              "        vertical-align: middle;\n",
              "    }\n",
              "\n",
              "    .dataframe tbody tr th {\n",
              "        vertical-align: top;\n",
              "    }\n",
              "\n",
              "    .dataframe thead th {\n",
              "        text-align: right;\n",
              "    }\n",
              "</style>\n",
              "<table border=\"1\" class=\"dataframe\">\n",
              "  <thead>\n",
              "    <tr style=\"text-align: right;\">\n",
              "      <th></th>\n",
              "      <th>Cities_name</th>\n",
              "      <th>Cities_Population</th>\n",
              "      <th>Cities_Location</th>\n",
              "      <th>Cities_AdminCode</th>\n",
              "      <th>Cities_CityID</th>\n",
              "    </tr>\n",
              "  </thead>\n",
              "  <tbody>\n",
              "    <tr>\n",
              "      <th>0</th>\n",
              "      <td>Harare</td>\n",
              "      <td>1542813</td>\n",
              "      <td>(-17.82772, 31.05337)</td>\n",
              "      <td>10</td>\n",
              "      <td>890299</td>\n",
              "    </tr>\n",
              "    <tr>\n",
              "      <th>1</th>\n",
              "      <td>Bulawayo</td>\n",
              "      <td>699385</td>\n",
              "      <td>(-20.15, 28.58333)</td>\n",
              "      <td>9</td>\n",
              "      <td>894701</td>\n",
              "    </tr>\n",
              "    <tr>\n",
              "      <th>2</th>\n",
              "      <td>Chitungwiza</td>\n",
              "      <td>340360</td>\n",
              "      <td>(-18.01274, 31.07555)</td>\n",
              "      <td>10</td>\n",
              "      <td>1106542</td>\n",
              "    </tr>\n",
              "    <tr>\n",
              "      <th>3</th>\n",
              "      <td>Mutare</td>\n",
              "      <td>184205</td>\n",
              "      <td>(-18.9707, 32.67086)</td>\n",
              "      <td>1</td>\n",
              "      <td>884979</td>\n",
              "    </tr>\n",
              "    <tr>\n",
              "      <th>4</th>\n",
              "      <td>Gweru</td>\n",
              "      <td>146073</td>\n",
              "      <td>(-19.45, 29.81667)</td>\n",
              "      <td>2</td>\n",
              "      <td>890422</td>\n",
              "    </tr>\n",
              "    <tr>\n",
              "      <th>...</th>\n",
              "      <td>...</td>\n",
              "      <td>...</td>\n",
              "      <td>...</td>\n",
              "      <td>...</td>\n",
              "      <td>...</td>\n",
              "    </tr>\n",
              "    <tr>\n",
              "      <th>59</th>\n",
              "      <td>Dorowa Mining Lease</td>\n",
              "      <td>1676</td>\n",
              "      <td>(-19.06667, 31.75)</td>\n",
              "      <td>1</td>\n",
              "      <td>892156</td>\n",
              "    </tr>\n",
              "    <tr>\n",
              "      <th>60</th>\n",
              "      <td>Beatrice</td>\n",
              "      <td>1647</td>\n",
              "      <td>(-18.25283, 30.8473)</td>\n",
              "      <td>4</td>\n",
              "      <td>895308</td>\n",
              "    </tr>\n",
              "    <tr>\n",
              "      <th>61</th>\n",
              "      <td>Kamativi Mine</td>\n",
              "      <td>1575</td>\n",
              "      <td>(-18.31563, 27.05729)</td>\n",
              "      <td>6</td>\n",
              "      <td>889390</td>\n",
              "    </tr>\n",
              "    <tr>\n",
              "      <th>62</th>\n",
              "      <td>Lalapanzi</td>\n",
              "      <td>1390</td>\n",
              "      <td>(-19.33225, 30.17768)</td>\n",
              "      <td>2</td>\n",
              "      <td>888667</td>\n",
              "    </tr>\n",
              "    <tr>\n",
              "      <th>63</th>\n",
              "      <td>Lupane</td>\n",
              "      <td>1200</td>\n",
              "      <td>(-18.93149, 27.80696)</td>\n",
              "      <td>6</td>\n",
              "      <td>888225</td>\n",
              "    </tr>\n",
              "  </tbody>\n",
              "</table>\n",
              "<p>64 rows × 5 columns</p>\n",
              "</div>"
            ],
            "text/plain": [
              "            Cities_name  Cities_Population  ... Cities_AdminCode  Cities_CityID\n",
              "0                Harare            1542813  ...               10         890299\n",
              "1              Bulawayo             699385  ...                9         894701\n",
              "2           Chitungwiza             340360  ...               10        1106542\n",
              "3                Mutare             184205  ...                1         884979\n",
              "4                 Gweru             146073  ...                2         890422\n",
              "..                  ...                ...  ...              ...            ...\n",
              "59  Dorowa Mining Lease               1676  ...                1         892156\n",
              "60             Beatrice               1647  ...                4         895308\n",
              "61        Kamativi Mine               1575  ...                6         889390\n",
              "62            Lalapanzi               1390  ...                2         888667\n",
              "63               Lupane               1200  ...                6         888225\n",
              "\n",
              "[64 rows x 5 columns]"
            ]
          },
          "metadata": {
            "tags": []
          },
          "execution_count": 8
        }
      ]
    },
    {
      "cell_type": "code",
      "metadata": {
        "colab": {
          "base_uri": "https://localhost:8080/"
        },
        "id": "gATEC6wgFnF0",
        "outputId": "7ffbf63a-aa1c-4165-c6d0-86ff9ac64302"
      },
      "source": [
        "df.dtypes"
      ],
      "execution_count": null,
      "outputs": [
        {
          "output_type": "execute_result",
          "data": {
            "text/plain": [
              "Cities_name          object\n",
              "Cities_Population     int64\n",
              "Cities_Location      object\n",
              "Cities_AdminCode      int64\n",
              "Cities_CityID         int64\n",
              "dtype: object"
            ]
          },
          "metadata": {
            "tags": []
          },
          "execution_count": 9
        }
      ]
    },
    {
      "cell_type": "code",
      "metadata": {
        "colab": {
          "base_uri": "https://localhost:8080/"
        },
        "id": "79yJKRcy6R7P",
        "outputId": "d09d23f6-f8ef-46ce-c869-1cda0b3a29a8"
      },
      "source": [
        "df['Cities_Location']"
      ],
      "execution_count": null,
      "outputs": [
        {
          "output_type": "execute_result",
          "data": {
            "text/plain": [
              "0     (-17.82772, 31.05337)\n",
              "1        (-20.15, 28.58333)\n",
              "2     (-18.01274, 31.07555)\n",
              "3      (-18.9707, 32.67086)\n",
              "4        (-19.45, 29.81667)\n",
              "              ...          \n",
              "59       (-19.06667, 31.75)\n",
              "60     (-18.25283, 30.8473)\n",
              "61    (-18.31563, 27.05729)\n",
              "62    (-19.33225, 30.17768)\n",
              "63    (-18.93149, 27.80696)\n",
              "Name: Cities_Location, Length: 64, dtype: object"
            ]
          },
          "metadata": {
            "tags": []
          },
          "execution_count": 10
        }
      ]
    },
    {
      "cell_type": "code",
      "metadata": {
        "id": "tcwGxBCx6-7b"
      },
      "source": [
        "df['Cities_Location'] = df['Cities_Location'].str.replace(',', ' ').str.replace('(', ' ').str.replace(')', ' ')"
      ],
      "execution_count": null,
      "outputs": []
    },
    {
      "cell_type": "code",
      "metadata": {
        "colab": {
          "base_uri": "https://localhost:8080/"
        },
        "id": "xyI6qRRA7V4f",
        "outputId": "c34e3170-39e4-4ccd-c665-4bb600837e02"
      },
      "source": [
        "df['Cities_Location'] "
      ],
      "execution_count": null,
      "outputs": [
        {
          "output_type": "execute_result",
          "data": {
            "text/plain": [
              "0      -17.82772  31.05337 \n",
              "1         -20.15  28.58333 \n",
              "2      -18.01274  31.07555 \n",
              "3       -18.9707  32.67086 \n",
              "4         -19.45  29.81667 \n",
              "              ...          \n",
              "59        -19.06667  31.75 \n",
              "60      -18.25283  30.8473 \n",
              "61     -18.31563  27.05729 \n",
              "62     -19.33225  30.17768 \n",
              "63     -18.93149  27.80696 \n",
              "Name: Cities_Location, Length: 64, dtype: object"
            ]
          },
          "metadata": {
            "tags": []
          },
          "execution_count": 12
        }
      ]
    },
    {
      "cell_type": "code",
      "metadata": {
        "id": "e8550GEP8I3q"
      },
      "source": [
        "df['Latitude'] = pd.to_numeric(df['Cities_Location'].str.split(' ').str.get(1))"
      ],
      "execution_count": 19,
      "outputs": []
    },
    {
      "cell_type": "code",
      "metadata": {
        "colab": {
          "base_uri": "https://localhost:8080/"
        },
        "id": "35_Z3fRK8OyK",
        "outputId": "04e2b7ff-a2b6-4092-df66-6b11d1b0dab3"
      },
      "source": [
        "df['Cities_Location'] "
      ],
      "execution_count": 20,
      "outputs": [
        {
          "output_type": "execute_result",
          "data": {
            "text/plain": [
              "0      -17.82772  31.05337 \n",
              "1         -20.15  28.58333 \n",
              "2      -18.01274  31.07555 \n",
              "3       -18.9707  32.67086 \n",
              "4         -19.45  29.81667 \n",
              "              ...          \n",
              "59        -19.06667  31.75 \n",
              "60      -18.25283  30.8473 \n",
              "61     -18.31563  27.05729 \n",
              "62     -19.33225  30.17768 \n",
              "63     -18.93149  27.80696 \n",
              "Name: Cities_Location, Length: 64, dtype: object"
            ]
          },
          "metadata": {
            "tags": []
          },
          "execution_count": 20
        }
      ]
    },
    {
      "cell_type": "code",
      "metadata": {
        "colab": {
          "base_uri": "https://localhost:8080/"
        },
        "id": "52-UJOF098sR",
        "outputId": "830a6d5a-c26a-43cb-e3fa-ea6e2f9854ff"
      },
      "source": [
        "df['Latitude']"
      ],
      "execution_count": 21,
      "outputs": [
        {
          "output_type": "execute_result",
          "data": {
            "text/plain": [
              "0    -17.82772\n",
              "1    -20.15000\n",
              "2    -18.01274\n",
              "3    -18.97070\n",
              "4    -19.45000\n",
              "        ...   \n",
              "59   -19.06667\n",
              "60   -18.25283\n",
              "61   -18.31563\n",
              "62   -19.33225\n",
              "63   -18.93149\n",
              "Name: Latitude, Length: 64, dtype: float64"
            ]
          },
          "metadata": {
            "tags": []
          },
          "execution_count": 21
        }
      ]
    },
    {
      "cell_type": "code",
      "metadata": {
        "id": "lJ4_Br0d-IxU"
      },
      "source": [
        "df['Longitude'] = pd.to_numeric(df['Cities_Location'].str.split(' ').str.get(3))"
      ],
      "execution_count": 22,
      "outputs": []
    },
    {
      "cell_type": "code",
      "metadata": {
        "colab": {
          "base_uri": "https://localhost:8080/"
        },
        "id": "URCujRBx-VHM",
        "outputId": "1ba68894-ce50-4438-ab24-308bea960358"
      },
      "source": [
        "df['Longitude']"
      ],
      "execution_count": 23,
      "outputs": [
        {
          "output_type": "execute_result",
          "data": {
            "text/plain": [
              "0     31.05337\n",
              "1     28.58333\n",
              "2     31.07555\n",
              "3     32.67086\n",
              "4     29.81667\n",
              "        ...   \n",
              "59    31.75000\n",
              "60    30.84730\n",
              "61    27.05729\n",
              "62    30.17768\n",
              "63    27.80696\n",
              "Name: Longitude, Length: 64, dtype: float64"
            ]
          },
          "metadata": {
            "tags": []
          },
          "execution_count": 23
        }
      ]
    },
    {
      "cell_type": "code",
      "metadata": {
        "colab": {
          "base_uri": "https://localhost:8080/",
          "height": 419
        },
        "id": "8WTnzRCo-Z47",
        "outputId": "12f9f61d-969d-4f2c-c044-a622e25d1b8a"
      },
      "source": [
        "df"
      ],
      "execution_count": 24,
      "outputs": [
        {
          "output_type": "execute_result",
          "data": {
            "text/html": [
              "<div>\n",
              "<style scoped>\n",
              "    .dataframe tbody tr th:only-of-type {\n",
              "        vertical-align: middle;\n",
              "    }\n",
              "\n",
              "    .dataframe tbody tr th {\n",
              "        vertical-align: top;\n",
              "    }\n",
              "\n",
              "    .dataframe thead th {\n",
              "        text-align: right;\n",
              "    }\n",
              "</style>\n",
              "<table border=\"1\" class=\"dataframe\">\n",
              "  <thead>\n",
              "    <tr style=\"text-align: right;\">\n",
              "      <th></th>\n",
              "      <th>Cities_name</th>\n",
              "      <th>Cities_Population</th>\n",
              "      <th>Cities_Location</th>\n",
              "      <th>Cities_AdminCode</th>\n",
              "      <th>Cities_CityID</th>\n",
              "      <th>Latitude</th>\n",
              "      <th>Longitude</th>\n",
              "    </tr>\n",
              "  </thead>\n",
              "  <tbody>\n",
              "    <tr>\n",
              "      <th>0</th>\n",
              "      <td>Harare</td>\n",
              "      <td>1542813</td>\n",
              "      <td>-17.82772  31.05337</td>\n",
              "      <td>10</td>\n",
              "      <td>890299</td>\n",
              "      <td>-17.82772</td>\n",
              "      <td>31.05337</td>\n",
              "    </tr>\n",
              "    <tr>\n",
              "      <th>1</th>\n",
              "      <td>Bulawayo</td>\n",
              "      <td>699385</td>\n",
              "      <td>-20.15  28.58333</td>\n",
              "      <td>9</td>\n",
              "      <td>894701</td>\n",
              "      <td>-20.15000</td>\n",
              "      <td>28.58333</td>\n",
              "    </tr>\n",
              "    <tr>\n",
              "      <th>2</th>\n",
              "      <td>Chitungwiza</td>\n",
              "      <td>340360</td>\n",
              "      <td>-18.01274  31.07555</td>\n",
              "      <td>10</td>\n",
              "      <td>1106542</td>\n",
              "      <td>-18.01274</td>\n",
              "      <td>31.07555</td>\n",
              "    </tr>\n",
              "    <tr>\n",
              "      <th>3</th>\n",
              "      <td>Mutare</td>\n",
              "      <td>184205</td>\n",
              "      <td>-18.9707  32.67086</td>\n",
              "      <td>1</td>\n",
              "      <td>884979</td>\n",
              "      <td>-18.97070</td>\n",
              "      <td>32.67086</td>\n",
              "    </tr>\n",
              "    <tr>\n",
              "      <th>4</th>\n",
              "      <td>Gweru</td>\n",
              "      <td>146073</td>\n",
              "      <td>-19.45  29.81667</td>\n",
              "      <td>2</td>\n",
              "      <td>890422</td>\n",
              "      <td>-19.45000</td>\n",
              "      <td>29.81667</td>\n",
              "    </tr>\n",
              "    <tr>\n",
              "      <th>...</th>\n",
              "      <td>...</td>\n",
              "      <td>...</td>\n",
              "      <td>...</td>\n",
              "      <td>...</td>\n",
              "      <td>...</td>\n",
              "      <td>...</td>\n",
              "      <td>...</td>\n",
              "    </tr>\n",
              "    <tr>\n",
              "      <th>59</th>\n",
              "      <td>Dorowa Mining Lease</td>\n",
              "      <td>1676</td>\n",
              "      <td>-19.06667  31.75</td>\n",
              "      <td>1</td>\n",
              "      <td>892156</td>\n",
              "      <td>-19.06667</td>\n",
              "      <td>31.75000</td>\n",
              "    </tr>\n",
              "    <tr>\n",
              "      <th>60</th>\n",
              "      <td>Beatrice</td>\n",
              "      <td>1647</td>\n",
              "      <td>-18.25283  30.8473</td>\n",
              "      <td>4</td>\n",
              "      <td>895308</td>\n",
              "      <td>-18.25283</td>\n",
              "      <td>30.84730</td>\n",
              "    </tr>\n",
              "    <tr>\n",
              "      <th>61</th>\n",
              "      <td>Kamativi Mine</td>\n",
              "      <td>1575</td>\n",
              "      <td>-18.31563  27.05729</td>\n",
              "      <td>6</td>\n",
              "      <td>889390</td>\n",
              "      <td>-18.31563</td>\n",
              "      <td>27.05729</td>\n",
              "    </tr>\n",
              "    <tr>\n",
              "      <th>62</th>\n",
              "      <td>Lalapanzi</td>\n",
              "      <td>1390</td>\n",
              "      <td>-19.33225  30.17768</td>\n",
              "      <td>2</td>\n",
              "      <td>888667</td>\n",
              "      <td>-19.33225</td>\n",
              "      <td>30.17768</td>\n",
              "    </tr>\n",
              "    <tr>\n",
              "      <th>63</th>\n",
              "      <td>Lupane</td>\n",
              "      <td>1200</td>\n",
              "      <td>-18.93149  27.80696</td>\n",
              "      <td>6</td>\n",
              "      <td>888225</td>\n",
              "      <td>-18.93149</td>\n",
              "      <td>27.80696</td>\n",
              "    </tr>\n",
              "  </tbody>\n",
              "</table>\n",
              "<p>64 rows × 7 columns</p>\n",
              "</div>"
            ],
            "text/plain": [
              "            Cities_name  Cities_Population  ...  Latitude  Longitude\n",
              "0                Harare            1542813  ... -17.82772   31.05337\n",
              "1              Bulawayo             699385  ... -20.15000   28.58333\n",
              "2           Chitungwiza             340360  ... -18.01274   31.07555\n",
              "3                Mutare             184205  ... -18.97070   32.67086\n",
              "4                 Gweru             146073  ... -19.45000   29.81667\n",
              "..                  ...                ...  ...       ...        ...\n",
              "59  Dorowa Mining Lease               1676  ... -19.06667   31.75000\n",
              "60             Beatrice               1647  ... -18.25283   30.84730\n",
              "61        Kamativi Mine               1575  ... -18.31563   27.05729\n",
              "62            Lalapanzi               1390  ... -19.33225   30.17768\n",
              "63               Lupane               1200  ... -18.93149   27.80696\n",
              "\n",
              "[64 rows x 7 columns]"
            ]
          },
          "metadata": {
            "tags": []
          },
          "execution_count": 24
        }
      ]
    },
    {
      "cell_type": "code",
      "metadata": {
        "id": "zBdR2nN2-cVa"
      },
      "source": [
        "df.drop('Cities_Location', axis = 1,inplace=True)"
      ],
      "execution_count": 25,
      "outputs": []
    },
    {
      "cell_type": "code",
      "metadata": {
        "colab": {
          "base_uri": "https://localhost:8080/",
          "height": 204
        },
        "id": "x6P-LrKY-iUj",
        "outputId": "22af4ba6-ff94-4cc9-8c55-ba7007c61165"
      },
      "source": [
        "from math import radians,cos,sin\n",
        "lat=df[\"Latitude\"].map(radians)\n",
        "long=df[\"Longitude\"].map(radians)\n",
        "\n",
        "df[\"lat_radians\"]=lat\n",
        "df[\"long_radians\"]=long\n",
        "\n",
        "df.head()\n",
        "\n",
        "\n"
      ],
      "execution_count": 26,
      "outputs": [
        {
          "output_type": "execute_result",
          "data": {
            "text/html": [
              "<div>\n",
              "<style scoped>\n",
              "    .dataframe tbody tr th:only-of-type {\n",
              "        vertical-align: middle;\n",
              "    }\n",
              "\n",
              "    .dataframe tbody tr th {\n",
              "        vertical-align: top;\n",
              "    }\n",
              "\n",
              "    .dataframe thead th {\n",
              "        text-align: right;\n",
              "    }\n",
              "</style>\n",
              "<table border=\"1\" class=\"dataframe\">\n",
              "  <thead>\n",
              "    <tr style=\"text-align: right;\">\n",
              "      <th></th>\n",
              "      <th>Cities_name</th>\n",
              "      <th>Cities_Population</th>\n",
              "      <th>Cities_AdminCode</th>\n",
              "      <th>Cities_CityID</th>\n",
              "      <th>Latitude</th>\n",
              "      <th>Longitude</th>\n",
              "      <th>lat_radians</th>\n",
              "      <th>long_radians</th>\n",
              "    </tr>\n",
              "  </thead>\n",
              "  <tbody>\n",
              "    <tr>\n",
              "      <th>0</th>\n",
              "      <td>Harare</td>\n",
              "      <td>1542813</td>\n",
              "      <td>10</td>\n",
              "      <td>890299</td>\n",
              "      <td>-17.82772</td>\n",
              "      <td>31.05337</td>\n",
              "      <td>-0.311152</td>\n",
              "      <td>0.541984</td>\n",
              "    </tr>\n",
              "    <tr>\n",
              "      <th>1</th>\n",
              "      <td>Bulawayo</td>\n",
              "      <td>699385</td>\n",
              "      <td>9</td>\n",
              "      <td>894701</td>\n",
              "      <td>-20.15000</td>\n",
              "      <td>28.58333</td>\n",
              "      <td>-0.351684</td>\n",
              "      <td>0.498873</td>\n",
              "    </tr>\n",
              "    <tr>\n",
              "      <th>2</th>\n",
              "      <td>Chitungwiza</td>\n",
              "      <td>340360</td>\n",
              "      <td>10</td>\n",
              "      <td>1106542</td>\n",
              "      <td>-18.01274</td>\n",
              "      <td>31.07555</td>\n",
              "      <td>-0.314382</td>\n",
              "      <td>0.542371</td>\n",
              "    </tr>\n",
              "    <tr>\n",
              "      <th>3</th>\n",
              "      <td>Mutare</td>\n",
              "      <td>184205</td>\n",
              "      <td>1</td>\n",
              "      <td>884979</td>\n",
              "      <td>-18.97070</td>\n",
              "      <td>32.67086</td>\n",
              "      <td>-0.331101</td>\n",
              "      <td>0.570214</td>\n",
              "    </tr>\n",
              "    <tr>\n",
              "      <th>4</th>\n",
              "      <td>Gweru</td>\n",
              "      <td>146073</td>\n",
              "      <td>2</td>\n",
              "      <td>890422</td>\n",
              "      <td>-19.45000</td>\n",
              "      <td>29.81667</td>\n",
              "      <td>-0.339467</td>\n",
              "      <td>0.520399</td>\n",
              "    </tr>\n",
              "  </tbody>\n",
              "</table>\n",
              "</div>"
            ],
            "text/plain": [
              "   Cities_name  Cities_Population  ...  lat_radians  long_radians\n",
              "0       Harare            1542813  ...    -0.311152      0.541984\n",
              "1     Bulawayo             699385  ...    -0.351684      0.498873\n",
              "2  Chitungwiza             340360  ...    -0.314382      0.542371\n",
              "3       Mutare             184205  ...    -0.331101      0.570214\n",
              "4        Gweru             146073  ...    -0.339467      0.520399\n",
              "\n",
              "[5 rows x 8 columns]"
            ]
          },
          "metadata": {
            "tags": []
          },
          "execution_count": 26
        }
      ]
    },
    {
      "cell_type": "code",
      "metadata": {
        "colab": {
          "base_uri": "https://localhost:8080/",
          "height": 266
        },
        "id": "tRpnICdY-rXj",
        "outputId": "a744b9f6-104a-4fe5-d994-0f7e4eeb0405"
      },
      "source": [
        "df.corr()"
      ],
      "execution_count": 27,
      "outputs": [
        {
          "output_type": "execute_result",
          "data": {
            "text/html": [
              "<div>\n",
              "<style scoped>\n",
              "    .dataframe tbody tr th:only-of-type {\n",
              "        vertical-align: middle;\n",
              "    }\n",
              "\n",
              "    .dataframe tbody tr th {\n",
              "        vertical-align: top;\n",
              "    }\n",
              "\n",
              "    .dataframe thead th {\n",
              "        text-align: right;\n",
              "    }\n",
              "</style>\n",
              "<table border=\"1\" class=\"dataframe\">\n",
              "  <thead>\n",
              "    <tr style=\"text-align: right;\">\n",
              "      <th></th>\n",
              "      <th>Cities_Population</th>\n",
              "      <th>Cities_AdminCode</th>\n",
              "      <th>Cities_CityID</th>\n",
              "      <th>Latitude</th>\n",
              "      <th>Longitude</th>\n",
              "      <th>lat_radians</th>\n",
              "      <th>long_radians</th>\n",
              "    </tr>\n",
              "  </thead>\n",
              "  <tbody>\n",
              "    <tr>\n",
              "      <th>Cities_Population</th>\n",
              "      <td>1.000000</td>\n",
              "      <td>0.396522</td>\n",
              "      <td>0.159304</td>\n",
              "      <td>0.004401</td>\n",
              "      <td>0.024837</td>\n",
              "      <td>0.004401</td>\n",
              "      <td>0.024837</td>\n",
              "    </tr>\n",
              "    <tr>\n",
              "      <th>Cities_AdminCode</th>\n",
              "      <td>0.396522</td>\n",
              "      <td>1.000000</td>\n",
              "      <td>0.417282</td>\n",
              "      <td>-0.182813</td>\n",
              "      <td>-0.463286</td>\n",
              "      <td>-0.182813</td>\n",
              "      <td>-0.463286</td>\n",
              "    </tr>\n",
              "    <tr>\n",
              "      <th>Cities_CityID</th>\n",
              "      <td>0.159304</td>\n",
              "      <td>0.417282</td>\n",
              "      <td>1.000000</td>\n",
              "      <td>0.085796</td>\n",
              "      <td>0.075323</td>\n",
              "      <td>0.085796</td>\n",
              "      <td>0.075323</td>\n",
              "    </tr>\n",
              "    <tr>\n",
              "      <th>Latitude</th>\n",
              "      <td>0.004401</td>\n",
              "      <td>-0.182813</td>\n",
              "      <td>0.085796</td>\n",
              "      <td>1.000000</td>\n",
              "      <td>0.074885</td>\n",
              "      <td>1.000000</td>\n",
              "      <td>0.074885</td>\n",
              "    </tr>\n",
              "    <tr>\n",
              "      <th>Longitude</th>\n",
              "      <td>0.024837</td>\n",
              "      <td>-0.463286</td>\n",
              "      <td>0.075323</td>\n",
              "      <td>0.074885</td>\n",
              "      <td>1.000000</td>\n",
              "      <td>0.074885</td>\n",
              "      <td>1.000000</td>\n",
              "    </tr>\n",
              "    <tr>\n",
              "      <th>lat_radians</th>\n",
              "      <td>0.004401</td>\n",
              "      <td>-0.182813</td>\n",
              "      <td>0.085796</td>\n",
              "      <td>1.000000</td>\n",
              "      <td>0.074885</td>\n",
              "      <td>1.000000</td>\n",
              "      <td>0.074885</td>\n",
              "    </tr>\n",
              "    <tr>\n",
              "      <th>long_radians</th>\n",
              "      <td>0.024837</td>\n",
              "      <td>-0.463286</td>\n",
              "      <td>0.075323</td>\n",
              "      <td>0.074885</td>\n",
              "      <td>1.000000</td>\n",
              "      <td>0.074885</td>\n",
              "      <td>1.000000</td>\n",
              "    </tr>\n",
              "  </tbody>\n",
              "</table>\n",
              "</div>"
            ],
            "text/plain": [
              "                   Cities_Population  ...  long_radians\n",
              "Cities_Population           1.000000  ...      0.024837\n",
              "Cities_AdminCode            0.396522  ...     -0.463286\n",
              "Cities_CityID               0.159304  ...      0.075323\n",
              "Latitude                    0.004401  ...      0.074885\n",
              "Longitude                   0.024837  ...      1.000000\n",
              "lat_radians                 0.004401  ...      0.074885\n",
              "long_radians                0.024837  ...      1.000000\n",
              "\n",
              "[7 rows x 7 columns]"
            ]
          },
          "metadata": {
            "tags": []
          },
          "execution_count": 27
        }
      ]
    },
    {
      "cell_type": "code",
      "metadata": {
        "id": "tP_H7rli-wBh"
      },
      "source": [
        "X = df.drop(['Cities_name','Cities_Population'], axis = 1 ) #independent features\n",
        "Y= df['Cities_Population'] #dependent feature that were predicting"
      ],
      "execution_count": 28,
      "outputs": []
    },
    {
      "cell_type": "code",
      "metadata": {
        "colab": {
          "base_uri": "https://localhost:8080/",
          "height": 419
        },
        "id": "gYtIMWKo-8mf",
        "outputId": "1c0590c0-15e4-43e3-e737-e16b008c72e0"
      },
      "source": [
        "X"
      ],
      "execution_count": 29,
      "outputs": [
        {
          "output_type": "execute_result",
          "data": {
            "text/html": [
              "<div>\n",
              "<style scoped>\n",
              "    .dataframe tbody tr th:only-of-type {\n",
              "        vertical-align: middle;\n",
              "    }\n",
              "\n",
              "    .dataframe tbody tr th {\n",
              "        vertical-align: top;\n",
              "    }\n",
              "\n",
              "    .dataframe thead th {\n",
              "        text-align: right;\n",
              "    }\n",
              "</style>\n",
              "<table border=\"1\" class=\"dataframe\">\n",
              "  <thead>\n",
              "    <tr style=\"text-align: right;\">\n",
              "      <th></th>\n",
              "      <th>Cities_AdminCode</th>\n",
              "      <th>Cities_CityID</th>\n",
              "      <th>Latitude</th>\n",
              "      <th>Longitude</th>\n",
              "      <th>lat_radians</th>\n",
              "      <th>long_radians</th>\n",
              "    </tr>\n",
              "  </thead>\n",
              "  <tbody>\n",
              "    <tr>\n",
              "      <th>0</th>\n",
              "      <td>10</td>\n",
              "      <td>890299</td>\n",
              "      <td>-17.82772</td>\n",
              "      <td>31.05337</td>\n",
              "      <td>-0.311152</td>\n",
              "      <td>0.541984</td>\n",
              "    </tr>\n",
              "    <tr>\n",
              "      <th>1</th>\n",
              "      <td>9</td>\n",
              "      <td>894701</td>\n",
              "      <td>-20.15000</td>\n",
              "      <td>28.58333</td>\n",
              "      <td>-0.351684</td>\n",
              "      <td>0.498873</td>\n",
              "    </tr>\n",
              "    <tr>\n",
              "      <th>2</th>\n",
              "      <td>10</td>\n",
              "      <td>1106542</td>\n",
              "      <td>-18.01274</td>\n",
              "      <td>31.07555</td>\n",
              "      <td>-0.314382</td>\n",
              "      <td>0.542371</td>\n",
              "    </tr>\n",
              "    <tr>\n",
              "      <th>3</th>\n",
              "      <td>1</td>\n",
              "      <td>884979</td>\n",
              "      <td>-18.97070</td>\n",
              "      <td>32.67086</td>\n",
              "      <td>-0.331101</td>\n",
              "      <td>0.570214</td>\n",
              "    </tr>\n",
              "    <tr>\n",
              "      <th>4</th>\n",
              "      <td>2</td>\n",
              "      <td>890422</td>\n",
              "      <td>-19.45000</td>\n",
              "      <td>29.81667</td>\n",
              "      <td>-0.339467</td>\n",
              "      <td>0.520399</td>\n",
              "    </tr>\n",
              "    <tr>\n",
              "      <th>...</th>\n",
              "      <td>...</td>\n",
              "      <td>...</td>\n",
              "      <td>...</td>\n",
              "      <td>...</td>\n",
              "      <td>...</td>\n",
              "      <td>...</td>\n",
              "    </tr>\n",
              "    <tr>\n",
              "      <th>59</th>\n",
              "      <td>1</td>\n",
              "      <td>892156</td>\n",
              "      <td>-19.06667</td>\n",
              "      <td>31.75000</td>\n",
              "      <td>-0.332776</td>\n",
              "      <td>0.554142</td>\n",
              "    </tr>\n",
              "    <tr>\n",
              "      <th>60</th>\n",
              "      <td>4</td>\n",
              "      <td>895308</td>\n",
              "      <td>-18.25283</td>\n",
              "      <td>30.84730</td>\n",
              "      <td>-0.318572</td>\n",
              "      <td>0.538387</td>\n",
              "    </tr>\n",
              "    <tr>\n",
              "      <th>61</th>\n",
              "      <td>6</td>\n",
              "      <td>889390</td>\n",
              "      <td>-18.31563</td>\n",
              "      <td>27.05729</td>\n",
              "      <td>-0.319668</td>\n",
              "      <td>0.472239</td>\n",
              "    </tr>\n",
              "    <tr>\n",
              "      <th>62</th>\n",
              "      <td>2</td>\n",
              "      <td>888667</td>\n",
              "      <td>-19.33225</td>\n",
              "      <td>30.17768</td>\n",
              "      <td>-0.337411</td>\n",
              "      <td>0.526700</td>\n",
              "    </tr>\n",
              "    <tr>\n",
              "      <th>63</th>\n",
              "      <td>6</td>\n",
              "      <td>888225</td>\n",
              "      <td>-18.93149</td>\n",
              "      <td>27.80696</td>\n",
              "      <td>-0.330417</td>\n",
              "      <td>0.485323</td>\n",
              "    </tr>\n",
              "  </tbody>\n",
              "</table>\n",
              "<p>64 rows × 6 columns</p>\n",
              "</div>"
            ],
            "text/plain": [
              "    Cities_AdminCode  Cities_CityID  ...  lat_radians  long_radians\n",
              "0                 10         890299  ...    -0.311152      0.541984\n",
              "1                  9         894701  ...    -0.351684      0.498873\n",
              "2                 10        1106542  ...    -0.314382      0.542371\n",
              "3                  1         884979  ...    -0.331101      0.570214\n",
              "4                  2         890422  ...    -0.339467      0.520399\n",
              "..               ...            ...  ...          ...           ...\n",
              "59                 1         892156  ...    -0.332776      0.554142\n",
              "60                 4         895308  ...    -0.318572      0.538387\n",
              "61                 6         889390  ...    -0.319668      0.472239\n",
              "62                 2         888667  ...    -0.337411      0.526700\n",
              "63                 6         888225  ...    -0.330417      0.485323\n",
              "\n",
              "[64 rows x 6 columns]"
            ]
          },
          "metadata": {
            "tags": []
          },
          "execution_count": 29
        }
      ]
    },
    {
      "cell_type": "code",
      "metadata": {
        "colab": {
          "base_uri": "https://localhost:8080/"
        },
        "id": "ZA4CiEr2-_rl",
        "outputId": "f07c8a4b-a514-4d48-a16d-c8c9c86c50a0"
      },
      "source": [
        "Y"
      ],
      "execution_count": 30,
      "outputs": [
        {
          "output_type": "execute_result",
          "data": {
            "text/plain": [
              "0     1542813\n",
              "1      699385\n",
              "2      340360\n",
              "3      184205\n",
              "4      146073\n",
              "       ...   \n",
              "59       1676\n",
              "60       1647\n",
              "61       1575\n",
              "62       1390\n",
              "63       1200\n",
              "Name: Cities_Population, Length: 64, dtype: int64"
            ]
          },
          "metadata": {
            "tags": []
          },
          "execution_count": 30
        }
      ]
    },
    {
      "cell_type": "code",
      "metadata": {
        "id": "ZCacEfTL_FsR"
      },
      "source": [
        "from sklearn.preprocessing import MinMaxScaler\n",
        "\n",
        "scaler = MinMaxScaler()\n",
        "\n",
        "X= scaler.fit_transform(X)"
      ],
      "execution_count": 31,
      "outputs": []
    },
    {
      "cell_type": "code",
      "metadata": {
        "id": "WgQy2zfk_MIL"
      },
      "source": [
        "#splitting data\n",
        "from sklearn.model_selection import train_test_split\n",
        "x_train, x_test, y_train, y_test = train_test_split(X, Y, test_size = 0.2, random_state = 5)"
      ],
      "execution_count": 32,
      "outputs": []
    },
    {
      "cell_type": "code",
      "metadata": {
        "colab": {
          "base_uri": "https://localhost:8080/"
        },
        "id": "uEbhkE9K_QNM",
        "outputId": "efa1ba58-b923-4272-f0ff-0445b0215a6d"
      },
      "source": [
        "x_train.shape"
      ],
      "execution_count": 33,
      "outputs": [
        {
          "output_type": "execute_result",
          "data": {
            "text/plain": [
              "(51, 6)"
            ]
          },
          "metadata": {
            "tags": []
          },
          "execution_count": 33
        }
      ]
    },
    {
      "cell_type": "code",
      "metadata": {
        "colab": {
          "base_uri": "https://localhost:8080/"
        },
        "id": "tRB_nc0u_WH1",
        "outputId": "f088c59d-2bbd-4cc2-8571-22b34d6ba078"
      },
      "source": [
        "x_test.shape"
      ],
      "execution_count": 34,
      "outputs": [
        {
          "output_type": "execute_result",
          "data": {
            "text/plain": [
              "(13, 6)"
            ]
          },
          "metadata": {
            "tags": []
          },
          "execution_count": 34
        }
      ]
    },
    {
      "cell_type": "code",
      "metadata": {
        "colab": {
          "base_uri": "https://localhost:8080/"
        },
        "id": "LENpEaMo_ZXt",
        "outputId": "b8bcf22b-e073-421f-84a4-380ebc7b3072"
      },
      "source": [
        "#training model\n",
        "\n",
        "from sklearn.linear_model import LinearRegression\n",
        "lin_reg = LinearRegression()\n",
        "\n",
        "lin_reg.fit(x_train,y_train)"
      ],
      "execution_count": 35,
      "outputs": [
        {
          "output_type": "execute_result",
          "data": {
            "text/plain": [
              "LinearRegression(copy_X=True, fit_intercept=True, n_jobs=None, normalize=False)"
            ]
          },
          "metadata": {
            "tags": []
          },
          "execution_count": 35
        }
      ]
    },
    {
      "cell_type": "code",
      "metadata": {
        "colab": {
          "base_uri": "https://localhost:8080/"
        },
        "id": "aS9QqBHX_jg_",
        "outputId": "32b85fa7-6842-4788-f6c3-28b4f430f835"
      },
      "source": [
        "import numpy as np\n",
        "from sklearn.metrics import mean_squared_error\n",
        "pop_predictions = lin_reg.predict(x_test)\n",
        "lin_mse = mean_squared_error(y_test,pop_predictions)\n",
        "lin_rmse = np.sqrt(lin_mse)\n",
        "lin_rmse"
      ],
      "execution_count": 36,
      "outputs": [
        {
          "output_type": "execute_result",
          "data": {
            "text/plain": [
              "109436.0488757709"
            ]
          },
          "metadata": {
            "tags": []
          },
          "execution_count": 36
        }
      ]
    },
    {
      "cell_type": "code",
      "metadata": {
        "colab": {
          "base_uri": "https://localhost:8080/"
        },
        "id": "jVbabVHh_pSr",
        "outputId": "bd9c7922-bf7a-4e73-8bf2-0daec7081d22"
      },
      "source": [
        "from sklearn.tree import DecisionTreeRegressor\n",
        "\n",
        "tree = DecisionTreeRegressor()\n",
        "tree.fit(x_train,y_train)"
      ],
      "execution_count": 37,
      "outputs": [
        {
          "output_type": "execute_result",
          "data": {
            "text/plain": [
              "DecisionTreeRegressor(ccp_alpha=0.0, criterion='mse', max_depth=None,\n",
              "                      max_features=None, max_leaf_nodes=None,\n",
              "                      min_impurity_decrease=0.0, min_impurity_split=None,\n",
              "                      min_samples_leaf=1, min_samples_split=2,\n",
              "                      min_weight_fraction_leaf=0.0, presort='deprecated',\n",
              "                      random_state=None, splitter='best')"
            ]
          },
          "metadata": {
            "tags": []
          },
          "execution_count": 37
        }
      ]
    },
    {
      "cell_type": "code",
      "metadata": {
        "colab": {
          "base_uri": "https://localhost:8080/"
        },
        "id": "nvBbzDnj_uFu",
        "outputId": "2106a322-a81e-4097-8e08-591f3114bfc0"
      },
      "source": [
        " pop_predictions = tree.predict(x_test)\n",
        "lin_mse = mean_squared_error(y_test,pop_predictions)\n",
        "lin_rmse = np.sqrt(lin_mse)\n",
        "lin_rmse"
      ],
      "execution_count": 38,
      "outputs": [
        {
          "output_type": "execute_result",
          "data": {
            "text/plain": [
              "54468.49102568736"
            ]
          },
          "metadata": {
            "tags": []
          },
          "execution_count": 38
        }
      ]
    },
    {
      "cell_type": "code",
      "metadata": {
        "colab": {
          "base_uri": "https://localhost:8080/"
        },
        "id": "NNKkhC8vAd2N",
        "outputId": "fb084fdb-1868-46c6-d4b0-61578d39b944"
      },
      "source": [
        "from xgboost import XGBRegressor\n",
        "xgb_model = XGBRegressor()\n",
        "xgb_model.fit(x_train,y_train)"
      ],
      "execution_count": 39,
      "outputs": [
        {
          "output_type": "stream",
          "text": [
            "[22:05:27] WARNING: /workspace/src/objective/regression_obj.cu:152: reg:linear is now deprecated in favor of reg:squarederror.\n"
          ],
          "name": "stdout"
        },
        {
          "output_type": "execute_result",
          "data": {
            "text/plain": [
              "XGBRegressor(base_score=0.5, booster='gbtree', colsample_bylevel=1,\n",
              "             colsample_bynode=1, colsample_bytree=1, gamma=0,\n",
              "             importance_type='gain', learning_rate=0.1, max_delta_step=0,\n",
              "             max_depth=3, min_child_weight=1, missing=None, n_estimators=100,\n",
              "             n_jobs=1, nthread=None, objective='reg:linear', random_state=0,\n",
              "             reg_alpha=0, reg_lambda=1, scale_pos_weight=1, seed=None,\n",
              "             silent=None, subsample=1, verbosity=1)"
            ]
          },
          "metadata": {
            "tags": []
          },
          "execution_count": 39
        }
      ]
    },
    {
      "cell_type": "code",
      "metadata": {
        "colab": {
          "base_uri": "https://localhost:8080/"
        },
        "id": "-cGa4yR6AjMV",
        "outputId": "7e10b83f-5f52-4dd5-d3b8-fc312f00360d"
      },
      "source": [
        " pop_predictions = xgb_model.predict(x_test)\n",
        "lin_mse = mean_squared_error(y_test,pop_predictions)\n",
        "lin_rmse = np.sqrt(lin_mse)\n",
        "lin_rmse"
      ],
      "execution_count": 40,
      "outputs": [
        {
          "output_type": "execute_result",
          "data": {
            "text/plain": [
              "53054.24392657458"
            ]
          },
          "metadata": {
            "tags": []
          },
          "execution_count": 40
        }
      ]
    },
    {
      "cell_type": "code",
      "metadata": {
        "colab": {
          "base_uri": "https://localhost:8080/"
        },
        "id": "vtf7ZEL4ApCD",
        "outputId": "81702549-d574-4fb4-fa66-bb7e723a1dd3"
      },
      "source": [
        "from sklearn.ensemble import RandomForestRegressor\n",
        "forest_model=RandomForestRegressor()\n",
        "forest_model.fit(x_train,y_train)"
      ],
      "execution_count": 41,
      "outputs": [
        {
          "output_type": "execute_result",
          "data": {
            "text/plain": [
              "RandomForestRegressor(bootstrap=True, ccp_alpha=0.0, criterion='mse',\n",
              "                      max_depth=None, max_features='auto', max_leaf_nodes=None,\n",
              "                      max_samples=None, min_impurity_decrease=0.0,\n",
              "                      min_impurity_split=None, min_samples_leaf=1,\n",
              "                      min_samples_split=2, min_weight_fraction_leaf=0.0,\n",
              "                      n_estimators=100, n_jobs=None, oob_score=False,\n",
              "                      random_state=None, verbose=0, warm_start=False)"
            ]
          },
          "metadata": {
            "tags": []
          },
          "execution_count": 41
        }
      ]
    },
    {
      "cell_type": "code",
      "metadata": {
        "colab": {
          "base_uri": "https://localhost:8080/"
        },
        "id": "UXY0bEcUAszB",
        "outputId": "9a64eaa8-1858-4ffe-91b8-9f7883bc0750"
      },
      "source": [
        " pop_predictions = forest_model.predict(x_test)\n",
        "lin_mse = mean_squared_error(y_test,pop_predictions)\n",
        "lin_rmse = np.sqrt(lin_mse)\n",
        "lin_rmse"
      ],
      "execution_count": 42,
      "outputs": [
        {
          "output_type": "execute_result",
          "data": {
            "text/plain": [
              "52464.97294451693"
            ]
          },
          "metadata": {
            "tags": []
          },
          "execution_count": 42
        }
      ]
    }
  ]
}