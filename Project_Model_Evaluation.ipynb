{
  "nbformat": 4,
  "nbformat_minor": 0,
  "metadata": {
    "colab": {
      "name": "Project_Model_Evaluation.ipynb",
      "provenance": [],
      "collapsed_sections": [],
      "authorship_tag": "ABX9TyNbr0uEZ3I8N9Y5JLGUr4Gv",
      "include_colab_link": true
    },
    "kernelspec": {
      "display_name": "Python 3",
      "name": "python3"
    },
    "language_info": {
      "name": "python"
    }
  },
  "cells": [
    {
      "cell_type": "markdown",
      "metadata": {
        "id": "view-in-github",
        "colab_type": "text"
      },
      "source": [
        "<a href=\"https://colab.research.google.com/github/milroy-cmd/AI-model-evaluation/blob/main/Project_Model_Evaluation.ipynb\" target=\"_parent\"><img src=\"https://colab.research.google.com/assets/colab-badge.svg\" alt=\"Open In Colab\"/></a>"
      ]
    },
    {
      "cell_type": "code",
      "metadata": {
        "colab": {
          "base_uri": "https://localhost:8080/"
        },
        "id": "4tT12HJOC0CH",
        "outputId": "73b12c71-cfc1-453c-b3e4-d644a3202447"
      },
      "source": [
        "from google.colab import drive\n",
        "drive.mount('/content/drive')"
      ],
      "execution_count": 1,
      "outputs": [
        {
          "output_type": "stream",
          "text": [
            "Mounted at /content/drive\n"
          ],
          "name": "stdout"
        }
      ]
    },
    {
      "cell_type": "code",
      "metadata": {
        "id": "zu0MR-gYErY1"
      },
      "source": [
        "#Question_1\n",
        "import pandas as pd\n",
        "df = pd.read_csv('/content/drive/My Drive/Colab Notebooks/zim_cities.csv')\n",
        "\n",
        "#NAMES OF GROUP MEMBERS \n",
        "#MILROY SHUMBA R198175Y\n",
        "#PRECIOUS RUMHUNGWE R195877T\n",
        "#CYNTHIA ZHAWU R195828H"
      ],
      "execution_count": 7,
      "outputs": []
    },
    {
      "cell_type": "code",
      "metadata": {
        "colab": {
          "base_uri": "https://localhost:8080/",
          "height": 407
        },
        "id": "S11KRl00E5T3",
        "outputId": "fe7b3fe6-b33f-4f41-8feb-d2f5c60ba3a1"
      },
      "source": [
        "df"
      ],
      "execution_count": 8,
      "outputs": [
        {
          "output_type": "execute_result",
          "data": {
            "text/html": [
              "<div>\n",
              "<style scoped>\n",
              "    .dataframe tbody tr th:only-of-type {\n",
              "        vertical-align: middle;\n",
              "    }\n",
              "\n",
              "    .dataframe tbody tr th {\n",
              "        vertical-align: top;\n",
              "    }\n",
              "\n",
              "    .dataframe thead th {\n",
              "        text-align: right;\n",
              "    }\n",
              "</style>\n",
              "<table border=\"1\" class=\"dataframe\">\n",
              "  <thead>\n",
              "    <tr style=\"text-align: right;\">\n",
              "      <th></th>\n",
              "      <th>Cities_name</th>\n",
              "      <th>Cities_Population</th>\n",
              "      <th>Cities_Location</th>\n",
              "      <th>Cities_AdminCode</th>\n",
              "      <th>Cities_CityID</th>\n",
              "    </tr>\n",
              "  </thead>\n",
              "  <tbody>\n",
              "    <tr>\n",
              "      <th>0</th>\n",
              "      <td>Harare</td>\n",
              "      <td>1542813</td>\n",
              "      <td>(-17.82772, 31.05337)</td>\n",
              "      <td>10</td>\n",
              "      <td>890299</td>\n",
              "    </tr>\n",
              "    <tr>\n",
              "      <th>1</th>\n",
              "      <td>Bulawayo</td>\n",
              "      <td>699385</td>\n",
              "      <td>(-20.15, 28.58333)</td>\n",
              "      <td>9</td>\n",
              "      <td>894701</td>\n",
              "    </tr>\n",
              "    <tr>\n",
              "      <th>2</th>\n",
              "      <td>Chitungwiza</td>\n",
              "      <td>340360</td>\n",
              "      <td>(-18.01274, 31.07555)</td>\n",
              "      <td>10</td>\n",
              "      <td>1106542</td>\n",
              "    </tr>\n",
              "    <tr>\n",
              "      <th>3</th>\n",
              "      <td>Mutare</td>\n",
              "      <td>184205</td>\n",
              "      <td>(-18.9707, 32.67086)</td>\n",
              "      <td>1</td>\n",
              "      <td>884979</td>\n",
              "    </tr>\n",
              "    <tr>\n",
              "      <th>4</th>\n",
              "      <td>Gweru</td>\n",
              "      <td>146073</td>\n",
              "      <td>(-19.45, 29.81667)</td>\n",
              "      <td>2</td>\n",
              "      <td>890422</td>\n",
              "    </tr>\n",
              "    <tr>\n",
              "      <th>...</th>\n",
              "      <td>...</td>\n",
              "      <td>...</td>\n",
              "      <td>...</td>\n",
              "      <td>...</td>\n",
              "      <td>...</td>\n",
              "    </tr>\n",
              "    <tr>\n",
              "      <th>59</th>\n",
              "      <td>Dorowa Mining Lease</td>\n",
              "      <td>1676</td>\n",
              "      <td>(-19.06667, 31.75)</td>\n",
              "      <td>1</td>\n",
              "      <td>892156</td>\n",
              "    </tr>\n",
              "    <tr>\n",
              "      <th>60</th>\n",
              "      <td>Beatrice</td>\n",
              "      <td>1647</td>\n",
              "      <td>(-18.25283, 30.8473)</td>\n",
              "      <td>4</td>\n",
              "      <td>895308</td>\n",
              "    </tr>\n",
              "    <tr>\n",
              "      <th>61</th>\n",
              "      <td>Kamativi Mine</td>\n",
              "      <td>1575</td>\n",
              "      <td>(-18.31563, 27.05729)</td>\n",
              "      <td>6</td>\n",
              "      <td>889390</td>\n",
              "    </tr>\n",
              "    <tr>\n",
              "      <th>62</th>\n",
              "      <td>Lalapanzi</td>\n",
              "      <td>1390</td>\n",
              "      <td>(-19.33225, 30.17768)</td>\n",
              "      <td>2</td>\n",
              "      <td>888667</td>\n",
              "    </tr>\n",
              "    <tr>\n",
              "      <th>63</th>\n",
              "      <td>Lupane</td>\n",
              "      <td>1200</td>\n",
              "      <td>(-18.93149, 27.80696)</td>\n",
              "      <td>6</td>\n",
              "      <td>888225</td>\n",
              "    </tr>\n",
              "  </tbody>\n",
              "</table>\n",
              "<p>64 rows × 5 columns</p>\n",
              "</div>"
            ],
            "text/plain": [
              "            Cities_name  Cities_Population  ... Cities_AdminCode  Cities_CityID\n",
              "0                Harare            1542813  ...               10         890299\n",
              "1              Bulawayo             699385  ...                9         894701\n",
              "2           Chitungwiza             340360  ...               10        1106542\n",
              "3                Mutare             184205  ...                1         884979\n",
              "4                 Gweru             146073  ...                2         890422\n",
              "..                  ...                ...  ...              ...            ...\n",
              "59  Dorowa Mining Lease               1676  ...                1         892156\n",
              "60             Beatrice               1647  ...                4         895308\n",
              "61        Kamativi Mine               1575  ...                6         889390\n",
              "62            Lalapanzi               1390  ...                2         888667\n",
              "63               Lupane               1200  ...                6         888225\n",
              "\n",
              "[64 rows x 5 columns]"
            ]
          },
          "metadata": {
            "tags": []
          },
          "execution_count": 8
        }
      ]
    },
    {
      "cell_type": "code",
      "metadata": {
        "colab": {
          "base_uri": "https://localhost:8080/"
        },
        "id": "gATEC6wgFnF0",
        "outputId": "a0281ad2-361c-468b-8c8a-c2e37aac5eb0"
      },
      "source": [
        "df.dtypes"
      ],
      "execution_count": 9,
      "outputs": [
        {
          "output_type": "execute_result",
          "data": {
            "text/plain": [
              "Cities_name          object\n",
              "Cities_Population     int64\n",
              "Cities_Location      object\n",
              "Cities_AdminCode      int64\n",
              "Cities_CityID         int64\n",
              "dtype: object"
            ]
          },
          "metadata": {
            "tags": []
          },
          "execution_count": 9
        }
      ]
    },
    {
      "cell_type": "code",
      "metadata": {
        "colab": {
          "base_uri": "https://localhost:8080/"
        },
        "id": "79yJKRcy6R7P",
        "outputId": "ad4201e5-0060-407b-caf3-db6815808a71"
      },
      "source": [
        "df['Cities_Location']"
      ],
      "execution_count": 10,
      "outputs": [
        {
          "output_type": "execute_result",
          "data": {
            "text/plain": [
              "0     (-17.82772, 31.05337)\n",
              "1        (-20.15, 28.58333)\n",
              "2     (-18.01274, 31.07555)\n",
              "3      (-18.9707, 32.67086)\n",
              "4        (-19.45, 29.81667)\n",
              "              ...          \n",
              "59       (-19.06667, 31.75)\n",
              "60     (-18.25283, 30.8473)\n",
              "61    (-18.31563, 27.05729)\n",
              "62    (-19.33225, 30.17768)\n",
              "63    (-18.93149, 27.80696)\n",
              "Name: Cities_Location, Length: 64, dtype: object"
            ]
          },
          "metadata": {
            "tags": []
          },
          "execution_count": 10
        }
      ]
    },
    {
      "cell_type": "code",
      "metadata": {
        "id": "tcwGxBCx6-7b"
      },
      "source": [
        "#splitting cities location into latitude and longitude\n",
        "df['Cities_Location'] = df['Cities_Location'].str.replace(',', ' ').str.replace('(', ' ').str.replace(')', ' ')"
      ],
      "execution_count": 11,
      "outputs": []
    },
    {
      "cell_type": "code",
      "metadata": {
        "colab": {
          "base_uri": "https://localhost:8080/"
        },
        "id": "xyI6qRRA7V4f",
        "outputId": "da80ca4e-ed80-455d-ae00-9426791bdb92"
      },
      "source": [
        "df['Cities_Location'] "
      ],
      "execution_count": 12,
      "outputs": [
        {
          "output_type": "execute_result",
          "data": {
            "text/plain": [
              "0      -17.82772  31.05337 \n",
              "1         -20.15  28.58333 \n",
              "2      -18.01274  31.07555 \n",
              "3       -18.9707  32.67086 \n",
              "4         -19.45  29.81667 \n",
              "              ...          \n",
              "59        -19.06667  31.75 \n",
              "60      -18.25283  30.8473 \n",
              "61     -18.31563  27.05729 \n",
              "62     -19.33225  30.17768 \n",
              "63     -18.93149  27.80696 \n",
              "Name: Cities_Location, Length: 64, dtype: object"
            ]
          },
          "metadata": {
            "tags": []
          },
          "execution_count": 12
        }
      ]
    },
    {
      "cell_type": "code",
      "metadata": {
        "id": "e8550GEP8I3q"
      },
      "source": [
        "df['Latitude'] = pd.to_numeric(df['Cities_Location'].str.split(' ').str.get(1))"
      ],
      "execution_count": 13,
      "outputs": []
    },
    {
      "cell_type": "code",
      "metadata": {
        "colab": {
          "base_uri": "https://localhost:8080/"
        },
        "id": "35_Z3fRK8OyK",
        "outputId": "37182edf-cc22-4f64-e66f-691403297107"
      },
      "source": [
        "df['Cities_Location'] "
      ],
      "execution_count": 14,
      "outputs": [
        {
          "output_type": "execute_result",
          "data": {
            "text/plain": [
              "0      -17.82772  31.05337 \n",
              "1         -20.15  28.58333 \n",
              "2      -18.01274  31.07555 \n",
              "3       -18.9707  32.67086 \n",
              "4         -19.45  29.81667 \n",
              "              ...          \n",
              "59        -19.06667  31.75 \n",
              "60      -18.25283  30.8473 \n",
              "61     -18.31563  27.05729 \n",
              "62     -19.33225  30.17768 \n",
              "63     -18.93149  27.80696 \n",
              "Name: Cities_Location, Length: 64, dtype: object"
            ]
          },
          "metadata": {
            "tags": []
          },
          "execution_count": 14
        }
      ]
    },
    {
      "cell_type": "code",
      "metadata": {
        "colab": {
          "base_uri": "https://localhost:8080/"
        },
        "id": "52-UJOF098sR",
        "outputId": "5fe666a0-09a1-4ef7-c8b4-7a8f0f44e76e"
      },
      "source": [
        "df['Latitude']"
      ],
      "execution_count": 15,
      "outputs": [
        {
          "output_type": "execute_result",
          "data": {
            "text/plain": [
              "0    -17.82772\n",
              "1    -20.15000\n",
              "2    -18.01274\n",
              "3    -18.97070\n",
              "4    -19.45000\n",
              "        ...   \n",
              "59   -19.06667\n",
              "60   -18.25283\n",
              "61   -18.31563\n",
              "62   -19.33225\n",
              "63   -18.93149\n",
              "Name: Latitude, Length: 64, dtype: float64"
            ]
          },
          "metadata": {
            "tags": []
          },
          "execution_count": 15
        }
      ]
    },
    {
      "cell_type": "code",
      "metadata": {
        "id": "lJ4_Br0d-IxU"
      },
      "source": [
        "df['Longitude'] = pd.to_numeric(df['Cities_Location'].str.split(' ').str.get(3))"
      ],
      "execution_count": 16,
      "outputs": []
    },
    {
      "cell_type": "code",
      "metadata": {
        "colab": {
          "base_uri": "https://localhost:8080/"
        },
        "id": "URCujRBx-VHM",
        "outputId": "f9d68e84-4bde-4bea-9fbf-b6ea0fb1c7a6"
      },
      "source": [
        "df['Longitude']"
      ],
      "execution_count": 17,
      "outputs": [
        {
          "output_type": "execute_result",
          "data": {
            "text/plain": [
              "0     31.05337\n",
              "1     28.58333\n",
              "2     31.07555\n",
              "3     32.67086\n",
              "4     29.81667\n",
              "        ...   \n",
              "59    31.75000\n",
              "60    30.84730\n",
              "61    27.05729\n",
              "62    30.17768\n",
              "63    27.80696\n",
              "Name: Longitude, Length: 64, dtype: float64"
            ]
          },
          "metadata": {
            "tags": []
          },
          "execution_count": 17
        }
      ]
    },
    {
      "cell_type": "code",
      "metadata": {
        "id": "zBdR2nN2-cVa"
      },
      "source": [
        "df.drop('Cities_Location', axis = 1,inplace=True)\n"
      ],
      "execution_count": 18,
      "outputs": []
    },
    {
      "cell_type": "code",
      "metadata": {
        "colab": {
          "base_uri": "https://localhost:8080/",
          "height": 407
        },
        "id": "36SeFm8OSKYe",
        "outputId": "3edfecf2-322e-4c11-f064-853b69e65a00"
      },
      "source": [
        "df"
      ],
      "execution_count": 20,
      "outputs": [
        {
          "output_type": "execute_result",
          "data": {
            "text/html": [
              "<div>\n",
              "<style scoped>\n",
              "    .dataframe tbody tr th:only-of-type {\n",
              "        vertical-align: middle;\n",
              "    }\n",
              "\n",
              "    .dataframe tbody tr th {\n",
              "        vertical-align: top;\n",
              "    }\n",
              "\n",
              "    .dataframe thead th {\n",
              "        text-align: right;\n",
              "    }\n",
              "</style>\n",
              "<table border=\"1\" class=\"dataframe\">\n",
              "  <thead>\n",
              "    <tr style=\"text-align: right;\">\n",
              "      <th></th>\n",
              "      <th>Cities_name</th>\n",
              "      <th>Cities_Population</th>\n",
              "      <th>Cities_AdminCode</th>\n",
              "      <th>Cities_CityID</th>\n",
              "      <th>Latitude</th>\n",
              "      <th>Longitude</th>\n",
              "    </tr>\n",
              "  </thead>\n",
              "  <tbody>\n",
              "    <tr>\n",
              "      <th>0</th>\n",
              "      <td>Harare</td>\n",
              "      <td>1542813</td>\n",
              "      <td>10</td>\n",
              "      <td>890299</td>\n",
              "      <td>-17.82772</td>\n",
              "      <td>31.05337</td>\n",
              "    </tr>\n",
              "    <tr>\n",
              "      <th>1</th>\n",
              "      <td>Bulawayo</td>\n",
              "      <td>699385</td>\n",
              "      <td>9</td>\n",
              "      <td>894701</td>\n",
              "      <td>-20.15000</td>\n",
              "      <td>28.58333</td>\n",
              "    </tr>\n",
              "    <tr>\n",
              "      <th>2</th>\n",
              "      <td>Chitungwiza</td>\n",
              "      <td>340360</td>\n",
              "      <td>10</td>\n",
              "      <td>1106542</td>\n",
              "      <td>-18.01274</td>\n",
              "      <td>31.07555</td>\n",
              "    </tr>\n",
              "    <tr>\n",
              "      <th>3</th>\n",
              "      <td>Mutare</td>\n",
              "      <td>184205</td>\n",
              "      <td>1</td>\n",
              "      <td>884979</td>\n",
              "      <td>-18.97070</td>\n",
              "      <td>32.67086</td>\n",
              "    </tr>\n",
              "    <tr>\n",
              "      <th>4</th>\n",
              "      <td>Gweru</td>\n",
              "      <td>146073</td>\n",
              "      <td>2</td>\n",
              "      <td>890422</td>\n",
              "      <td>-19.45000</td>\n",
              "      <td>29.81667</td>\n",
              "    </tr>\n",
              "    <tr>\n",
              "      <th>...</th>\n",
              "      <td>...</td>\n",
              "      <td>...</td>\n",
              "      <td>...</td>\n",
              "      <td>...</td>\n",
              "      <td>...</td>\n",
              "      <td>...</td>\n",
              "    </tr>\n",
              "    <tr>\n",
              "      <th>59</th>\n",
              "      <td>Dorowa Mining Lease</td>\n",
              "      <td>1676</td>\n",
              "      <td>1</td>\n",
              "      <td>892156</td>\n",
              "      <td>-19.06667</td>\n",
              "      <td>31.75000</td>\n",
              "    </tr>\n",
              "    <tr>\n",
              "      <th>60</th>\n",
              "      <td>Beatrice</td>\n",
              "      <td>1647</td>\n",
              "      <td>4</td>\n",
              "      <td>895308</td>\n",
              "      <td>-18.25283</td>\n",
              "      <td>30.84730</td>\n",
              "    </tr>\n",
              "    <tr>\n",
              "      <th>61</th>\n",
              "      <td>Kamativi Mine</td>\n",
              "      <td>1575</td>\n",
              "      <td>6</td>\n",
              "      <td>889390</td>\n",
              "      <td>-18.31563</td>\n",
              "      <td>27.05729</td>\n",
              "    </tr>\n",
              "    <tr>\n",
              "      <th>62</th>\n",
              "      <td>Lalapanzi</td>\n",
              "      <td>1390</td>\n",
              "      <td>2</td>\n",
              "      <td>888667</td>\n",
              "      <td>-19.33225</td>\n",
              "      <td>30.17768</td>\n",
              "    </tr>\n",
              "    <tr>\n",
              "      <th>63</th>\n",
              "      <td>Lupane</td>\n",
              "      <td>1200</td>\n",
              "      <td>6</td>\n",
              "      <td>888225</td>\n",
              "      <td>-18.93149</td>\n",
              "      <td>27.80696</td>\n",
              "    </tr>\n",
              "  </tbody>\n",
              "</table>\n",
              "<p>64 rows × 6 columns</p>\n",
              "</div>"
            ],
            "text/plain": [
              "            Cities_name  Cities_Population  ...  Latitude  Longitude\n",
              "0                Harare            1542813  ... -17.82772   31.05337\n",
              "1              Bulawayo             699385  ... -20.15000   28.58333\n",
              "2           Chitungwiza             340360  ... -18.01274   31.07555\n",
              "3                Mutare             184205  ... -18.97070   32.67086\n",
              "4                 Gweru             146073  ... -19.45000   29.81667\n",
              "..                  ...                ...  ...       ...        ...\n",
              "59  Dorowa Mining Lease               1676  ... -19.06667   31.75000\n",
              "60             Beatrice               1647  ... -18.25283   30.84730\n",
              "61        Kamativi Mine               1575  ... -18.31563   27.05729\n",
              "62            Lalapanzi               1390  ... -19.33225   30.17768\n",
              "63               Lupane               1200  ... -18.93149   27.80696\n",
              "\n",
              "[64 rows x 6 columns]"
            ]
          },
          "metadata": {
            "tags": []
          },
          "execution_count": 20
        }
      ]
    },
    {
      "cell_type": "code",
      "metadata": {
        "colab": {
          "base_uri": "https://localhost:8080/",
          "height": 407
        },
        "id": "Q_krdvI4H_YU",
        "outputId": "198dab3e-a8f1-4711-badd-8cf4524a9469"
      },
      "source": [
        "#dropping the Cities_name\tand Cities_CityID column because they are unique for every record and will not help in the prediction\n",
        "\n",
        "df = df.drop(['Cities_name','Cities_CityID'], axis = 1)\n",
        "df"
      ],
      "execution_count": 21,
      "outputs": [
        {
          "output_type": "execute_result",
          "data": {
            "text/html": [
              "<div>\n",
              "<style scoped>\n",
              "    .dataframe tbody tr th:only-of-type {\n",
              "        vertical-align: middle;\n",
              "    }\n",
              "\n",
              "    .dataframe tbody tr th {\n",
              "        vertical-align: top;\n",
              "    }\n",
              "\n",
              "    .dataframe thead th {\n",
              "        text-align: right;\n",
              "    }\n",
              "</style>\n",
              "<table border=\"1\" class=\"dataframe\">\n",
              "  <thead>\n",
              "    <tr style=\"text-align: right;\">\n",
              "      <th></th>\n",
              "      <th>Cities_Population</th>\n",
              "      <th>Cities_AdminCode</th>\n",
              "      <th>Latitude</th>\n",
              "      <th>Longitude</th>\n",
              "    </tr>\n",
              "  </thead>\n",
              "  <tbody>\n",
              "    <tr>\n",
              "      <th>0</th>\n",
              "      <td>1542813</td>\n",
              "      <td>10</td>\n",
              "      <td>-17.82772</td>\n",
              "      <td>31.05337</td>\n",
              "    </tr>\n",
              "    <tr>\n",
              "      <th>1</th>\n",
              "      <td>699385</td>\n",
              "      <td>9</td>\n",
              "      <td>-20.15000</td>\n",
              "      <td>28.58333</td>\n",
              "    </tr>\n",
              "    <tr>\n",
              "      <th>2</th>\n",
              "      <td>340360</td>\n",
              "      <td>10</td>\n",
              "      <td>-18.01274</td>\n",
              "      <td>31.07555</td>\n",
              "    </tr>\n",
              "    <tr>\n",
              "      <th>3</th>\n",
              "      <td>184205</td>\n",
              "      <td>1</td>\n",
              "      <td>-18.97070</td>\n",
              "      <td>32.67086</td>\n",
              "    </tr>\n",
              "    <tr>\n",
              "      <th>4</th>\n",
              "      <td>146073</td>\n",
              "      <td>2</td>\n",
              "      <td>-19.45000</td>\n",
              "      <td>29.81667</td>\n",
              "    </tr>\n",
              "    <tr>\n",
              "      <th>...</th>\n",
              "      <td>...</td>\n",
              "      <td>...</td>\n",
              "      <td>...</td>\n",
              "      <td>...</td>\n",
              "    </tr>\n",
              "    <tr>\n",
              "      <th>59</th>\n",
              "      <td>1676</td>\n",
              "      <td>1</td>\n",
              "      <td>-19.06667</td>\n",
              "      <td>31.75000</td>\n",
              "    </tr>\n",
              "    <tr>\n",
              "      <th>60</th>\n",
              "      <td>1647</td>\n",
              "      <td>4</td>\n",
              "      <td>-18.25283</td>\n",
              "      <td>30.84730</td>\n",
              "    </tr>\n",
              "    <tr>\n",
              "      <th>61</th>\n",
              "      <td>1575</td>\n",
              "      <td>6</td>\n",
              "      <td>-18.31563</td>\n",
              "      <td>27.05729</td>\n",
              "    </tr>\n",
              "    <tr>\n",
              "      <th>62</th>\n",
              "      <td>1390</td>\n",
              "      <td>2</td>\n",
              "      <td>-19.33225</td>\n",
              "      <td>30.17768</td>\n",
              "    </tr>\n",
              "    <tr>\n",
              "      <th>63</th>\n",
              "      <td>1200</td>\n",
              "      <td>6</td>\n",
              "      <td>-18.93149</td>\n",
              "      <td>27.80696</td>\n",
              "    </tr>\n",
              "  </tbody>\n",
              "</table>\n",
              "<p>64 rows × 4 columns</p>\n",
              "</div>"
            ],
            "text/plain": [
              "    Cities_Population  Cities_AdminCode  Latitude  Longitude\n",
              "0             1542813                10 -17.82772   31.05337\n",
              "1              699385                 9 -20.15000   28.58333\n",
              "2              340360                10 -18.01274   31.07555\n",
              "3              184205                 1 -18.97070   32.67086\n",
              "4              146073                 2 -19.45000   29.81667\n",
              "..                ...               ...       ...        ...\n",
              "59               1676                 1 -19.06667   31.75000\n",
              "60               1647                 4 -18.25283   30.84730\n",
              "61               1575                 6 -18.31563   27.05729\n",
              "62               1390                 2 -19.33225   30.17768\n",
              "63               1200                 6 -18.93149   27.80696\n",
              "\n",
              "[64 rows x 4 columns]"
            ]
          },
          "metadata": {
            "tags": []
          },
          "execution_count": 21
        }
      ]
    },
    {
      "cell_type": "code",
      "metadata": {
        "colab": {
          "base_uri": "https://localhost:8080/",
          "height": 168
        },
        "id": "tRpnICdY-rXj",
        "outputId": "3d136764-29f5-4711-bbc3-2f3b3d8f67d9"
      },
      "source": [
        "corr_matrix = df.corr()\n",
        "corr_matrix"
      ],
      "execution_count": 22,
      "outputs": [
        {
          "output_type": "execute_result",
          "data": {
            "text/html": [
              "<div>\n",
              "<style scoped>\n",
              "    .dataframe tbody tr th:only-of-type {\n",
              "        vertical-align: middle;\n",
              "    }\n",
              "\n",
              "    .dataframe tbody tr th {\n",
              "        vertical-align: top;\n",
              "    }\n",
              "\n",
              "    .dataframe thead th {\n",
              "        text-align: right;\n",
              "    }\n",
              "</style>\n",
              "<table border=\"1\" class=\"dataframe\">\n",
              "  <thead>\n",
              "    <tr style=\"text-align: right;\">\n",
              "      <th></th>\n",
              "      <th>Cities_Population</th>\n",
              "      <th>Cities_AdminCode</th>\n",
              "      <th>Latitude</th>\n",
              "      <th>Longitude</th>\n",
              "    </tr>\n",
              "  </thead>\n",
              "  <tbody>\n",
              "    <tr>\n",
              "      <th>Cities_Population</th>\n",
              "      <td>1.000000</td>\n",
              "      <td>0.396522</td>\n",
              "      <td>0.004401</td>\n",
              "      <td>0.024837</td>\n",
              "    </tr>\n",
              "    <tr>\n",
              "      <th>Cities_AdminCode</th>\n",
              "      <td>0.396522</td>\n",
              "      <td>1.000000</td>\n",
              "      <td>-0.182813</td>\n",
              "      <td>-0.463286</td>\n",
              "    </tr>\n",
              "    <tr>\n",
              "      <th>Latitude</th>\n",
              "      <td>0.004401</td>\n",
              "      <td>-0.182813</td>\n",
              "      <td>1.000000</td>\n",
              "      <td>0.074885</td>\n",
              "    </tr>\n",
              "    <tr>\n",
              "      <th>Longitude</th>\n",
              "      <td>0.024837</td>\n",
              "      <td>-0.463286</td>\n",
              "      <td>0.074885</td>\n",
              "      <td>1.000000</td>\n",
              "    </tr>\n",
              "  </tbody>\n",
              "</table>\n",
              "</div>"
            ],
            "text/plain": [
              "                   Cities_Population  Cities_AdminCode  Latitude  Longitude\n",
              "Cities_Population           1.000000          0.396522  0.004401   0.024837\n",
              "Cities_AdminCode            0.396522          1.000000 -0.182813  -0.463286\n",
              "Latitude                    0.004401         -0.182813  1.000000   0.074885\n",
              "Longitude                   0.024837         -0.463286  0.074885   1.000000"
            ]
          },
          "metadata": {
            "tags": []
          },
          "execution_count": 22
        }
      ]
    },
    {
      "cell_type": "code",
      "metadata": {
        "colab": {
          "base_uri": "https://localhost:8080/"
        },
        "id": "iJdmiN0do_yk",
        "outputId": "f5d7f52f-a05f-4470-8cf9-196ec78a8472"
      },
      "source": [
        "corr_matrix[\"Cities_Population\"].sort_values(ascending = False)"
      ],
      "execution_count": 23,
      "outputs": [
        {
          "output_type": "execute_result",
          "data": {
            "text/plain": [
              "Cities_Population    1.000000\n",
              "Cities_AdminCode     0.396522\n",
              "Longitude            0.024837\n",
              "Latitude             0.004401\n",
              "Name: Cities_Population, dtype: float64"
            ]
          },
          "metadata": {
            "tags": []
          },
          "execution_count": 23
        }
      ]
    },
    {
      "cell_type": "code",
      "metadata": {
        "id": "tP_H7rli-wBh"
      },
      "source": [
        "X = df.drop('Cities_Population', axis = 1) #independent features\n",
        "Y= df['Cities_Population'] #dependent feature that were predicting"
      ],
      "execution_count": 24,
      "outputs": []
    },
    {
      "cell_type": "code",
      "metadata": {
        "colab": {
          "base_uri": "https://localhost:8080/",
          "height": 407
        },
        "id": "gYtIMWKo-8mf",
        "outputId": "c201e935-bdd6-43fa-d869-dac1cd460c11"
      },
      "source": [
        "X"
      ],
      "execution_count": 25,
      "outputs": [
        {
          "output_type": "execute_result",
          "data": {
            "text/html": [
              "<div>\n",
              "<style scoped>\n",
              "    .dataframe tbody tr th:only-of-type {\n",
              "        vertical-align: middle;\n",
              "    }\n",
              "\n",
              "    .dataframe tbody tr th {\n",
              "        vertical-align: top;\n",
              "    }\n",
              "\n",
              "    .dataframe thead th {\n",
              "        text-align: right;\n",
              "    }\n",
              "</style>\n",
              "<table border=\"1\" class=\"dataframe\">\n",
              "  <thead>\n",
              "    <tr style=\"text-align: right;\">\n",
              "      <th></th>\n",
              "      <th>Cities_AdminCode</th>\n",
              "      <th>Latitude</th>\n",
              "      <th>Longitude</th>\n",
              "    </tr>\n",
              "  </thead>\n",
              "  <tbody>\n",
              "    <tr>\n",
              "      <th>0</th>\n",
              "      <td>10</td>\n",
              "      <td>-17.82772</td>\n",
              "      <td>31.05337</td>\n",
              "    </tr>\n",
              "    <tr>\n",
              "      <th>1</th>\n",
              "      <td>9</td>\n",
              "      <td>-20.15000</td>\n",
              "      <td>28.58333</td>\n",
              "    </tr>\n",
              "    <tr>\n",
              "      <th>2</th>\n",
              "      <td>10</td>\n",
              "      <td>-18.01274</td>\n",
              "      <td>31.07555</td>\n",
              "    </tr>\n",
              "    <tr>\n",
              "      <th>3</th>\n",
              "      <td>1</td>\n",
              "      <td>-18.97070</td>\n",
              "      <td>32.67086</td>\n",
              "    </tr>\n",
              "    <tr>\n",
              "      <th>4</th>\n",
              "      <td>2</td>\n",
              "      <td>-19.45000</td>\n",
              "      <td>29.81667</td>\n",
              "    </tr>\n",
              "    <tr>\n",
              "      <th>...</th>\n",
              "      <td>...</td>\n",
              "      <td>...</td>\n",
              "      <td>...</td>\n",
              "    </tr>\n",
              "    <tr>\n",
              "      <th>59</th>\n",
              "      <td>1</td>\n",
              "      <td>-19.06667</td>\n",
              "      <td>31.75000</td>\n",
              "    </tr>\n",
              "    <tr>\n",
              "      <th>60</th>\n",
              "      <td>4</td>\n",
              "      <td>-18.25283</td>\n",
              "      <td>30.84730</td>\n",
              "    </tr>\n",
              "    <tr>\n",
              "      <th>61</th>\n",
              "      <td>6</td>\n",
              "      <td>-18.31563</td>\n",
              "      <td>27.05729</td>\n",
              "    </tr>\n",
              "    <tr>\n",
              "      <th>62</th>\n",
              "      <td>2</td>\n",
              "      <td>-19.33225</td>\n",
              "      <td>30.17768</td>\n",
              "    </tr>\n",
              "    <tr>\n",
              "      <th>63</th>\n",
              "      <td>6</td>\n",
              "      <td>-18.93149</td>\n",
              "      <td>27.80696</td>\n",
              "    </tr>\n",
              "  </tbody>\n",
              "</table>\n",
              "<p>64 rows × 3 columns</p>\n",
              "</div>"
            ],
            "text/plain": [
              "    Cities_AdminCode  Latitude  Longitude\n",
              "0                 10 -17.82772   31.05337\n",
              "1                  9 -20.15000   28.58333\n",
              "2                 10 -18.01274   31.07555\n",
              "3                  1 -18.97070   32.67086\n",
              "4                  2 -19.45000   29.81667\n",
              "..               ...       ...        ...\n",
              "59                 1 -19.06667   31.75000\n",
              "60                 4 -18.25283   30.84730\n",
              "61                 6 -18.31563   27.05729\n",
              "62                 2 -19.33225   30.17768\n",
              "63                 6 -18.93149   27.80696\n",
              "\n",
              "[64 rows x 3 columns]"
            ]
          },
          "metadata": {
            "tags": []
          },
          "execution_count": 25
        }
      ]
    },
    {
      "cell_type": "code",
      "metadata": {
        "colab": {
          "base_uri": "https://localhost:8080/"
        },
        "id": "ZA4CiEr2-_rl",
        "outputId": "a36f933b-ac9e-4cdc-ff2c-b3ef48bc044d"
      },
      "source": [
        "Y"
      ],
      "execution_count": 26,
      "outputs": [
        {
          "output_type": "execute_result",
          "data": {
            "text/plain": [
              "0     1542813\n",
              "1      699385\n",
              "2      340360\n",
              "3      184205\n",
              "4      146073\n",
              "       ...   \n",
              "59       1676\n",
              "60       1647\n",
              "61       1575\n",
              "62       1390\n",
              "63       1200\n",
              "Name: Cities_Population, Length: 64, dtype: int64"
            ]
          },
          "metadata": {
            "tags": []
          },
          "execution_count": 26
        }
      ]
    },
    {
      "cell_type": "code",
      "metadata": {
        "id": "ZCacEfTL_FsR"
      },
      "source": [
        "from sklearn.preprocessing import MinMaxScaler\n",
        "\n",
        "scaler = MinMaxScaler()\n",
        "\n",
        "X= scaler.fit_transform(X)"
      ],
      "execution_count": 27,
      "outputs": []
    },
    {
      "cell_type": "code",
      "metadata": {
        "id": "WgQy2zfk_MIL"
      },
      "source": [
        "#splitting data\n",
        "from sklearn.model_selection import train_test_split\n",
        "x_train, x_test, y_train, y_test = train_test_split(X, Y, test_size = 0.2, random_state = 5)"
      ],
      "execution_count": 28,
      "outputs": []
    },
    {
      "cell_type": "code",
      "metadata": {
        "colab": {
          "base_uri": "https://localhost:8080/"
        },
        "id": "uEbhkE9K_QNM",
        "outputId": "77ece520-ff0e-4321-feba-9a3545567209"
      },
      "source": [
        "x_train.shape"
      ],
      "execution_count": 29,
      "outputs": [
        {
          "output_type": "execute_result",
          "data": {
            "text/plain": [
              "(51, 3)"
            ]
          },
          "metadata": {
            "tags": []
          },
          "execution_count": 29
        }
      ]
    },
    {
      "cell_type": "code",
      "metadata": {
        "colab": {
          "base_uri": "https://localhost:8080/"
        },
        "id": "tRB_nc0u_WH1",
        "outputId": "a7d60627-6b0c-4177-9a81-3e110c9cd709"
      },
      "source": [
        "x_test.shape"
      ],
      "execution_count": 30,
      "outputs": [
        {
          "output_type": "execute_result",
          "data": {
            "text/plain": [
              "(13, 3)"
            ]
          },
          "metadata": {
            "tags": []
          },
          "execution_count": 30
        }
      ]
    },
    {
      "cell_type": "code",
      "metadata": {
        "colab": {
          "base_uri": "https://localhost:8080/"
        },
        "id": "LENpEaMo_ZXt",
        "outputId": "9ee369e0-a650-4ff9-8b0f-2d8c69ecbe32"
      },
      "source": [
        "#training model\n",
        "\n",
        "from sklearn.linear_model import LinearRegression\n",
        "from sklearn.metrics import accuracy_score\n",
        "lin_reg = LinearRegression()\n",
        "\n",
        "lin_reg.fit(x_train,y_train)"
      ],
      "execution_count": 31,
      "outputs": [
        {
          "output_type": "execute_result",
          "data": {
            "text/plain": [
              "LinearRegression(copy_X=True, fit_intercept=True, n_jobs=None, normalize=False)"
            ]
          },
          "metadata": {
            "tags": []
          },
          "execution_count": 31
        }
      ]
    },
    {
      "cell_type": "code",
      "metadata": {
        "id": "aS9QqBHX_jg_",
        "colab": {
          "base_uri": "https://localhost:8080/"
        },
        "outputId": "cb3ee20d-04d3-4f53-8bcd-52e40ad45d0a"
      },
      "source": [
        "import numpy as np\n",
        "from sklearn.metrics import mean_squared_error\n",
        "pop_predictions = lin_reg.predict(x_test)\n",
        "lin_mse = mean_squared_error(y_test,pop_predictions)\n",
        "lin_rmse = np.sqrt(lin_mse)\n",
        "print(\"root mean square error: \" + str(lin_rmse) )\n"
      ],
      "execution_count": 32,
      "outputs": [
        {
          "output_type": "stream",
          "text": [
            "root mean square error: 86171.78954150429\n"
          ],
          "name": "stdout"
        }
      ]
    },
    {
      "cell_type": "code",
      "metadata": {
        "colab": {
          "base_uri": "https://localhost:8080/"
        },
        "id": "jVbabVHh_pSr",
        "outputId": "ff06606e-7ae1-49f4-a5a9-cea401a8c339"
      },
      "source": [
        "from sklearn.tree import DecisionTreeRegressor\n",
        "\n",
        "tree = DecisionTreeRegressor()\n",
        "tree.fit(x_train,y_train)"
      ],
      "execution_count": 34,
      "outputs": [
        {
          "output_type": "execute_result",
          "data": {
            "text/plain": [
              "DecisionTreeRegressor(ccp_alpha=0.0, criterion='mse', max_depth=None,\n",
              "                      max_features=None, max_leaf_nodes=None,\n",
              "                      min_impurity_decrease=0.0, min_impurity_split=None,\n",
              "                      min_samples_leaf=1, min_samples_split=2,\n",
              "                      min_weight_fraction_leaf=0.0, presort='deprecated',\n",
              "                      random_state=None, splitter='best')"
            ]
          },
          "metadata": {
            "tags": []
          },
          "execution_count": 34
        }
      ]
    },
    {
      "cell_type": "code",
      "metadata": {
        "colab": {
          "base_uri": "https://localhost:8080/"
        },
        "id": "nvBbzDnj_uFu",
        "outputId": "250e1590-9287-441f-ace5-961922066830"
      },
      "source": [
        "\n",
        "pop_predictions = tree.predict(x_test)\n",
        "lin_mse = mean_squared_error(y_test,pop_predictions)\n",
        "lin_rmse = np.sqrt(lin_mse)\n",
        "print(\"root mean square error: \" + str(lin_rmse) )\n"
      ],
      "execution_count": 35,
      "outputs": [
        {
          "output_type": "stream",
          "text": [
            "root mean square error: 53237.96559859254\n"
          ],
          "name": "stdout"
        }
      ]
    },
    {
      "cell_type": "code",
      "metadata": {
        "colab": {
          "base_uri": "https://localhost:8080/"
        },
        "id": "ScmFKrHQhaDB",
        "outputId": "652ca4f8-4e6b-4441-aea8-274bb70a4e89"
      },
      "source": [
        "#hypertuning parameters with max_depth = 1\n",
        "tree1 = DecisionTreeRegressor(max_depth=1)\n",
        "tree1.fit(x_train,y_train)\n"
      ],
      "execution_count": 36,
      "outputs": [
        {
          "output_type": "execute_result",
          "data": {
            "text/plain": [
              "DecisionTreeRegressor(ccp_alpha=0.0, criterion='mse', max_depth=1,\n",
              "                      max_features=None, max_leaf_nodes=None,\n",
              "                      min_impurity_decrease=0.0, min_impurity_split=None,\n",
              "                      min_samples_leaf=1, min_samples_split=2,\n",
              "                      min_weight_fraction_leaf=0.0, presort='deprecated',\n",
              "                      random_state=None, splitter='best')"
            ]
          },
          "metadata": {
            "tags": []
          },
          "execution_count": 36
        }
      ]
    },
    {
      "cell_type": "code",
      "metadata": {
        "colab": {
          "base_uri": "https://localhost:8080/"
        },
        "id": "UXg1z8Qele5r",
        "outputId": "4710e26b-5051-4b08-d5a9-70e956363723"
      },
      "source": [
        "pop_predictions = tree1.predict(x_test)\n",
        "lin_mse = mean_squared_error(y_test,pop_predictions)\n",
        "lin_rmse = np.sqrt(lin_mse)\n",
        "print(\"root mean square error for a hyperparameter tuned model: \" + str(lin_rmse) )"
      ],
      "execution_count": 37,
      "outputs": [
        {
          "output_type": "stream",
          "text": [
            "root mean square error for a hyperparameter tuned model: 48431.51186800813\n"
          ],
          "name": "stdout"
        }
      ]
    },
    {
      "cell_type": "code",
      "metadata": {
        "colab": {
          "base_uri": "https://localhost:8080/"
        },
        "id": "NNKkhC8vAd2N",
        "outputId": "27e52387-316d-4ffd-b45d-8342e96f5eda"
      },
      "source": [
        "from xgboost import XGBRegressor\n",
        "xgb_model = XGBRegressor()\n",
        "xgb_model.fit(x_train,y_train)"
      ],
      "execution_count": 38,
      "outputs": [
        {
          "output_type": "stream",
          "text": [
            "[21:24:12] WARNING: /workspace/src/objective/regression_obj.cu:152: reg:linear is now deprecated in favor of reg:squarederror.\n"
          ],
          "name": "stdout"
        },
        {
          "output_type": "execute_result",
          "data": {
            "text/plain": [
              "XGBRegressor(base_score=0.5, booster='gbtree', colsample_bylevel=1,\n",
              "             colsample_bynode=1, colsample_bytree=1, gamma=0,\n",
              "             importance_type='gain', learning_rate=0.1, max_delta_step=0,\n",
              "             max_depth=3, min_child_weight=1, missing=None, n_estimators=100,\n",
              "             n_jobs=1, nthread=None, objective='reg:linear', random_state=0,\n",
              "             reg_alpha=0, reg_lambda=1, scale_pos_weight=1, seed=None,\n",
              "             silent=None, subsample=1, verbosity=1)"
            ]
          },
          "metadata": {
            "tags": []
          },
          "execution_count": 38
        }
      ]
    },
    {
      "cell_type": "code",
      "metadata": {
        "colab": {
          "base_uri": "https://localhost:8080/"
        },
        "id": "-cGa4yR6AjMV",
        "outputId": "220a8924-7134-488f-8dbd-c48725417513"
      },
      "source": [
        " pop_predictions = xgb_model.predict(x_test)\n",
        "lin_mse = mean_squared_error(y_test,pop_predictions)\n",
        "lin_rmse = np.sqrt(lin_mse)\n",
        "lin_rmse"
      ],
      "execution_count": 39,
      "outputs": [
        {
          "output_type": "execute_result",
          "data": {
            "text/plain": [
              "52629.55046878594"
            ]
          },
          "metadata": {
            "tags": []
          },
          "execution_count": 39
        }
      ]
    },
    {
      "cell_type": "code",
      "metadata": {
        "colab": {
          "base_uri": "https://localhost:8080/"
        },
        "id": "Bpo3wZBunBdO",
        "outputId": "de36ef54-6d08-4e2e-e86d-a7f94b6f0441"
      },
      "source": [
        "#hyperparameter tuning\n",
        "xgb_model1 = XGBRegressor(max_depth=4,n_estimators=500,learning_rate=0.05)\n",
        "xgb_model1.fit(x_train,y_train)"
      ],
      "execution_count": 64,
      "outputs": [
        {
          "output_type": "stream",
          "text": [
            "[21:33:48] WARNING: /workspace/src/objective/regression_obj.cu:152: reg:linear is now deprecated in favor of reg:squarederror.\n"
          ],
          "name": "stdout"
        },
        {
          "output_type": "execute_result",
          "data": {
            "text/plain": [
              "XGBRegressor(base_score=0.5, booster='gbtree', colsample_bylevel=1,\n",
              "             colsample_bynode=1, colsample_bytree=1, gamma=0,\n",
              "             importance_type='gain', learning_rate=0.05, max_delta_step=0,\n",
              "             max_depth=4, min_child_weight=1, missing=None, n_estimators=500,\n",
              "             n_jobs=1, nthread=None, objective='reg:linear', random_state=0,\n",
              "             reg_alpha=0, reg_lambda=1, scale_pos_weight=1, seed=None,\n",
              "             silent=None, subsample=1, verbosity=1)"
            ]
          },
          "metadata": {
            "tags": []
          },
          "execution_count": 64
        }
      ]
    },
    {
      "cell_type": "code",
      "metadata": {
        "colab": {
          "base_uri": "https://localhost:8080/"
        },
        "id": "N4h7JAxcnnFU",
        "outputId": "c0f37ee7-b30d-4e76-fdc6-f170330c2895"
      },
      "source": [
        " pop_predictions = xgb_model1.predict(x_test)\n",
        "lin_mse = mean_squared_error(y_test,pop_predictions)\n",
        "lin_rmse = np.sqrt(lin_mse)\n",
        "lin_rmse"
      ],
      "execution_count": 65,
      "outputs": [
        {
          "output_type": "execute_result",
          "data": {
            "text/plain": [
              "51871.970478302836"
            ]
          },
          "metadata": {
            "tags": []
          },
          "execution_count": 65
        }
      ]
    },
    {
      "cell_type": "code",
      "metadata": {
        "colab": {
          "base_uri": "https://localhost:8080/"
        },
        "id": "vtf7ZEL4ApCD",
        "outputId": "1d3d9d3a-0062-464b-b249-9c211a7f7938"
      },
      "source": [
        "from sklearn.ensemble import RandomForestRegressor\n",
        "forest_model=RandomForestRegressor()\n",
        "forest_model.fit(x_train,y_train)"
      ],
      "execution_count": 66,
      "outputs": [
        {
          "output_type": "execute_result",
          "data": {
            "text/plain": [
              "RandomForestRegressor(bootstrap=True, ccp_alpha=0.0, criterion='mse',\n",
              "                      max_depth=None, max_features='auto', max_leaf_nodes=None,\n",
              "                      max_samples=None, min_impurity_decrease=0.0,\n",
              "                      min_impurity_split=None, min_samples_leaf=1,\n",
              "                      min_samples_split=2, min_weight_fraction_leaf=0.0,\n",
              "                      n_estimators=100, n_jobs=None, oob_score=False,\n",
              "                      random_state=None, verbose=0, warm_start=False)"
            ]
          },
          "metadata": {
            "tags": []
          },
          "execution_count": 66
        }
      ]
    },
    {
      "cell_type": "code",
      "metadata": {
        "colab": {
          "base_uri": "https://localhost:8080/"
        },
        "id": "UXY0bEcUAszB",
        "outputId": "7cb7b05f-d0c3-4ccb-c18b-6f1dabff8e07"
      },
      "source": [
        " pop_predictions = forest_model.predict(x_test)\n",
        "lin_mse = mean_squared_error(y_test,pop_predictions)\n",
        "lin_rmse = np.sqrt(lin_mse)\n",
        "lin_rmse\n",
        "\n"
      ],
      "execution_count": 68,
      "outputs": [
        {
          "output_type": "execute_result",
          "data": {
            "text/plain": [
              "51203.30686914469"
            ]
          },
          "metadata": {
            "tags": []
          },
          "execution_count": 68
        }
      ]
    }
  ]
}